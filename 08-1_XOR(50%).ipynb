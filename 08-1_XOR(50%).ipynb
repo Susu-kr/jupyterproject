{
 "cells": [
  {
   "cell_type": "code",
   "execution_count": 1,
   "id": "33f1f556",
   "metadata": {},
   "outputs": [],
   "source": [
    "# Lab 9 XOR\n",
    "import torch"
   ]
  },
  {
   "cell_type": "code",
   "execution_count": 2,
   "id": "7327411b",
   "metadata": {},
   "outputs": [],
   "source": [
    "device = 'cuda' if torch.cuda.is_available() else 'cpu'\n",
    "\n",
    "#for reproducibility\n",
    "torch.manual_seed(777)\n",
    "if device == 'cuda':\n",
    "    torch.cuda.manual_seed_all(777)"
   ]
  },
  {
   "cell_type": "code",
   "execution_count": 3,
   "id": "da5fb679",
   "metadata": {},
   "outputs": [],
   "source": [
    "X = torch.FloatTensor([[0, 0], [0, 1], [1, 0], [1, 1]]).to(device)\n",
    "Y = torch.FloatTensor([[0], [1], [1], [0]]).to(device)\n"
   ]
  },
  {
   "cell_type": "code",
   "execution_count": 4,
   "id": "8628ad67",
   "metadata": {},
   "outputs": [],
   "source": [
    "# nn layers\n",
    "linear = torch.nn.Linear(2, 1, bias = True)\n",
    "sigmoid = torch.nn.Sigmoid()"
   ]
  },
  {
   "cell_type": "code",
   "execution_count": 5,
   "id": "8b21a57f",
   "metadata": {},
   "outputs": [],
   "source": [
    "# model\n",
    "model = torch.nn.Sequential(linear, sigmoid).to(device)"
   ]
  },
  {
   "cell_type": "code",
   "execution_count": 6,
   "id": "204840a1",
   "metadata": {},
   "outputs": [],
   "source": [
    "# define cost/loss & optimizer\n",
    "criterion = torch.nn.BCELoss().to(device)\n",
    "optimizer = torch.optim.SGD(model.parameters(), lr = 0.01)"
   ]
  },
  {
   "cell_type": "code",
   "execution_count": 7,
   "id": "a6318fe6",
   "metadata": {},
   "outputs": [
    {
     "name": "stdout",
     "output_type": "stream",
     "text": [
      "0 0.7273974418640137\n",
      "100 0.7117963433265686\n",
      "200 0.7041681408882141\n",
      "300 0.7003782987594604\n",
      "400 0.698405385017395\n",
      "500 0.6972939968109131\n",
      "600 0.6965994238853455\n",
      "700 0.6961153745651245\n",
      "800 0.6957454681396484\n",
      "900 0.695443868637085\n",
      "1000 0.6951879262924194\n",
      "1100 0.6949657201766968\n",
      "1200 0.694770336151123\n",
      "1300 0.6945974230766296\n",
      "1400 0.6944440007209778\n",
      "1500 0.6943073272705078\n",
      "1600 0.694185733795166\n",
      "1700 0.6940772533416748\n",
      "1800 0.6939806938171387\n",
      "1900 0.6938943266868591\n",
      "2000 0.6938171982765198\n",
      "2100 0.6937484741210938\n",
      "2200 0.6936869621276855\n",
      "2300 0.6936320066452026\n",
      "2400 0.6935827732086182\n",
      "2500 0.6935389041900635\n",
      "2600 0.6934995651245117\n",
      "2700 0.6934643387794495\n",
      "2800 0.6934327483177185\n",
      "2900 0.6934045553207397\n",
      "3000 0.6933791637420654\n",
      "3100 0.693356454372406\n",
      "3200 0.6933359503746033\n",
      "3300 0.6933176517486572\n",
      "3400 0.6933012008666992\n",
      "3500 0.6932863593101501\n",
      "3600 0.69327312707901\n",
      "3700 0.6932610869407654\n",
      "3800 0.693250298500061\n",
      "3900 0.6932405829429626\n",
      "4000 0.6932318806648254\n",
      "4100 0.6932238936424255\n",
      "4200 0.6932168006896973\n",
      "4300 0.6932103633880615\n",
      "4400 0.6932046413421631\n",
      "4500 0.6931993365287781\n",
      "4600 0.6931946277618408\n",
      "4700 0.693190336227417\n",
      "4800 0.6931864619255066\n",
      "4900 0.6931830048561096\n",
      "5000 0.693179726600647\n",
      "5100 0.6931768655776978\n",
      "5200 0.6931743025779724\n",
      "5300 0.6931718587875366\n",
      "5400 0.6931697130203247\n",
      "5500 0.6931677460670471\n",
      "5600 0.6931658983230591\n",
      "5700 0.6931644082069397\n",
      "5800 0.6931627988815308\n",
      "5900 0.6931614875793457\n",
      "6000 0.693160355091095\n",
      "6100 0.6931592226028442\n",
      "6200 0.6931581497192383\n",
      "6300 0.6931573152542114\n",
      "6400 0.6931564807891846\n",
      "6500 0.6931556463241577\n",
      "6600 0.6931549310684204\n",
      "6700 0.6931542754173279\n",
      "6800 0.6931536793708801\n",
      "6900 0.6931531429290771\n",
      "7000 0.693152666091919\n",
      "7100 0.6931522488594055\n",
      "7200 0.6931517720222473\n",
      "7300 0.6931514143943787\n",
      "7400 0.69315105676651\n",
      "7500 0.6931507587432861\n",
      "7600 0.693150520324707\n",
      "7700 0.6931502223014832\n",
      "7800 0.693149983882904\n",
      "7900 0.693149745464325\n",
      "8000 0.6931495070457458\n",
      "8100 0.6931493282318115\n",
      "8200 0.693149209022522\n",
      "8300 0.6931490302085876\n",
      "8400 0.6931489109992981\n",
      "8500 0.6931487321853638\n",
      "8600 0.6931486129760742\n",
      "8700 0.6931484937667847\n",
      "8800 0.6931484341621399\n",
      "8900 0.6931482553482056\n",
      "9000 0.6931482553482056\n",
      "9100 0.693148136138916\n",
      "9200 0.6931480169296265\n",
      "9300 0.6931479573249817\n",
      "9400 0.6931478977203369\n",
      "9500 0.6931478977203369\n",
      "9600 0.6931477785110474\n",
      "9700 0.6931477785110474\n",
      "9800 0.6931477785110474\n",
      "9900 0.6931476593017578\n",
      "10000 0.693147599697113\n"
     ]
    }
   ],
   "source": [
    "for step in range(10001):\n",
    "    optimizer.zero_grad()\n",
    "    hypothesis = model(X)\n",
    "    \n",
    "    #cost / loss function\n",
    "    cost = criterion(hypothesis, Y)\n",
    "    cost.backward()\n",
    "    optimizer.step()\n",
    "    \n",
    "    if step % 100 == 0:\n",
    "        print(step, cost.item())"
   ]
  },
  {
   "cell_type": "code",
   "execution_count": 9,
   "id": "4cf24efc",
   "metadata": {},
   "outputs": [
    {
     "name": "stdout",
     "output_type": "stream",
     "text": [
      "\n",
      "Hypothesis:  [[0.50076187]\n",
      " [0.5002598 ]\n",
      " [0.49997926]\n",
      " [0.4994772 ]] \n",
      "Correct:  [[1.]\n",
      " [1.]\n",
      " [0.]\n",
      " [0.]] \n",
      "Accuracy:  0.5\n"
     ]
    }
   ],
   "source": [
    "# Accuracy computation\n",
    "# True if hypothesis > 0.5 else False\n",
    "with torch.no_grad():\n",
    "    hypothesis = model(X)\n",
    "    predicted = (hypothesis > 0.5).float()\n",
    "    accuracy = (predicted == Y).float().mean()\n",
    "    print('\\nHypothesis: ', hypothesis.detach().cpu().numpy(), '\\nCorrect: ', predicted.detach().cpu().numpy(), '\\nAccuracy: ', accuracy.item())\n"
   ]
  },
  {
   "cell_type": "code",
   "execution_count": null,
   "id": "0996b6cd",
   "metadata": {},
   "outputs": [],
   "source": []
  }
 ],
 "metadata": {
  "kernelspec": {
   "display_name": "Python 3",
   "language": "python",
   "name": "python3"
  },
  "language_info": {
   "codemirror_mode": {
    "name": "ipython",
    "version": 3
   },
   "file_extension": ".py",
   "mimetype": "text/x-python",
   "name": "python",
   "nbconvert_exporter": "python",
   "pygments_lexer": "ipython3",
   "version": "3.8.8"
  }
 },
 "nbformat": 4,
 "nbformat_minor": 5
}
